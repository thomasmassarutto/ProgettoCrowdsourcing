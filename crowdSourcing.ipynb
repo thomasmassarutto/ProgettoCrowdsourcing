{
 "cells": [
  {
   "cell_type": "code",
   "execution_count": 29,
   "id": "initial_id",
   "metadata": {
    "collapsed": true,
    "ExecuteTime": {
     "end_time": "2023-12-19T12:23:31.751801Z",
     "start_time": "2023-12-19T12:23:31.739365Z"
    }
   },
   "outputs": [],
   "source": [
    "import pandas as pd\n",
    "import numpy as np\n",
    "import json"
   ]
  },
  {
   "cell_type": "markdown",
   "source": [
    "## Download file "
   ],
   "metadata": {
    "collapsed": false
   },
   "id": "ac6e4778665e7662"
  },
  {
   "cell_type": "code",
   "execution_count": null,
   "outputs": [],
   "source": [
    "#The original file needed to work on is available at the link below and must be saved locally in the Data folder\n",
    "link = 'https://www.dropbox.com/scl/fi/tkkj9agzh5ry9ur1oy5yn/GROUP-1_AMAZON_VIDEO_GAMES.zip?rlkey=55qa04innldsm2zwow4h58hor&dl=0'"
   ],
   "metadata": {
    "collapsed": false
   },
   "id": "b6478fcab8418a5c"
  },
  {
   "cell_type": "code",
   "execution_count": 34,
   "outputs": [
    {
     "name": "stderr",
     "output_type": "stream",
     "text": [
      "/var/folders/60/_hldy1910cj16rlhrx9tjd_40000gn/T/ipykernel_6934/3775976270.py:2: DtypeWarning: Columns (7) have mixed types. Specify dtype option on import or set low_memory=False.\n",
      "  Reviews_With_Metadata = pd.read_csv(path)\n"
     ]
    },
    {
     "data": {
      "text/plain": "        product_asin     reviewer_id  reviewer_name  review_score  \\\n0         B004UDB9SA  A2U4YOLR0BMKHL  johan montaez             5   \n1         B004UDB9SA  A35698SZOE5PTZ    The Big LEO             4   \n2         B004UDB9SA   ATFTEK383YJ28         tim l.             5   \n3         B004UDB9SA  A3JE7R2WFCEBQN  Randy BoBandy             1   \n4         B004UDB9SA  A3MH8YUUJCJHIS         Glen49             5   \n...              ...             ...            ...           ...   \n2467152   B012B6XWA0  A2HRN7YQ5TQ5VT         Andrew             2   \n2467153   B012B6XWA0  A2CQVQN24YXURG      Lacivious             4   \n2467154   B012B6XWA0  A1TCXZC1ZCJELI             Vu             5   \n2467155   B012B6XWA0  A1OZJI75NABCPM           Sven             3   \n2467156   B012B6XWA0   AKKBIRYCGAS5N             PB             5   \n\n                 review_time  review_time_unix  \\\n0        2015-04-29 00:00:00        1430265600   \n1        2015-04-07 00:00:00        1428364800   \n2        2015-04-03 00:00:00        1428019200   \n3        2015-03-26 00:00:00        1427328000   \n4        2015-03-22 00:00:00        1426982400   \n...                      ...               ...   \n2467152  2015-10-22 00:00:00        1445472000   \n2467153  2015-10-17 00:00:00        1445040000   \n2467154  2015-10-16 00:00:00        1444953600   \n2467155  2015-09-20 00:00:00        1442707200   \n2467156  2015-09-14 00:00:00        1442188800   \n\n                                            review_summary review_upvote  \\\n0                                               Five Stars           NaN   \n1                                               Four Stars           NaN   \n2                                               Five Stars           NaN   \n3        Yet another terrible spin-off cashing in on th...           NaN   \n4                                               Five Stars           NaN   \n...                                                    ...           ...   \n2467152                                           To small           NaN   \n2467153  Grab your Snow Shovel, and your pajamas, and s...             3   \n2467154  I have nothing but good things to say about th...             2   \n2467155  I was completely happy with this mouse for a f...             4   \n2467156                                         Five Stars           NaN   \n\n                                               review_text  \\\n0                                                excellent   \n1                                                GOOD GAME   \n2                                                       Ok   \n3        Capcom is one of the greediest and lazy game d...   \n4                                                       OK   \n...                                                    ...   \n2467152  This mouse is too small.  I would stay away fr...   \n2467153  So i just got these today. Wow i already have ...   \n2467154  Regarding ZA13:\\nI have nothing but good thing...   \n2467155  I was completely happy with this mouse for a f...   \n2467156  Love the mouse, awesome build quality, perfect...   \n\n                                             product_title  \\\n0        Resident Evil: Operation Raccoon City - Playst...   \n1        Resident Evil: Operation Raccoon City - Playst...   \n2        Resident Evil: Operation Raccoon City - Playst...   \n3        Resident Evil: Operation Raccoon City - Playst...   \n4        Resident Evil: Operation Raccoon City - Playst...   \n...                                                    ...   \n2467152  BenQ Zowie ZA12 E-Sports Ambidextrous Optical ...   \n2467153  BenQ Zowie ZA12 E-Sports Ambidextrous Optical ...   \n2467154  BenQ Zowie ZA12 E-Sports Ambidextrous Optical ...   \n2467155  BenQ Zowie ZA12 E-Sports Ambidextrous Optical ...   \n2467156  BenQ Zowie ZA12 E-Sports Ambidextrous Optical ...   \n\n                product_brand  \n0        by\\n    \\n    Capcom  \n1        by\\n    \\n    Capcom  \n2        by\\n    \\n    Capcom  \n3        by\\n    \\n    Capcom  \n4        by\\n    \\n    Capcom  \n...                       ...  \n2467152                  BenQ  \n2467153                  BenQ  \n2467154                  BenQ  \n2467155                  BenQ  \n2467156                  BenQ  \n\n[2467157 rows x 11 columns]",
      "text/html": "<div>\n<style scoped>\n    .dataframe tbody tr th:only-of-type {\n        vertical-align: middle;\n    }\n\n    .dataframe tbody tr th {\n        vertical-align: top;\n    }\n\n    .dataframe thead th {\n        text-align: right;\n    }\n</style>\n<table border=\"1\" class=\"dataframe\">\n  <thead>\n    <tr style=\"text-align: right;\">\n      <th></th>\n      <th>product_asin</th>\n      <th>reviewer_id</th>\n      <th>reviewer_name</th>\n      <th>review_score</th>\n      <th>review_time</th>\n      <th>review_time_unix</th>\n      <th>review_summary</th>\n      <th>review_upvote</th>\n      <th>review_text</th>\n      <th>product_title</th>\n      <th>product_brand</th>\n    </tr>\n  </thead>\n  <tbody>\n    <tr>\n      <th>0</th>\n      <td>B004UDB9SA</td>\n      <td>A2U4YOLR0BMKHL</td>\n      <td>johan montaez</td>\n      <td>5</td>\n      <td>2015-04-29 00:00:00</td>\n      <td>1430265600</td>\n      <td>Five Stars</td>\n      <td>NaN</td>\n      <td>excellent</td>\n      <td>Resident Evil: Operation Raccoon City - Playst...</td>\n      <td>by\\n    \\n    Capcom</td>\n    </tr>\n    <tr>\n      <th>1</th>\n      <td>B004UDB9SA</td>\n      <td>A35698SZOE5PTZ</td>\n      <td>The Big LEO</td>\n      <td>4</td>\n      <td>2015-04-07 00:00:00</td>\n      <td>1428364800</td>\n      <td>Four Stars</td>\n      <td>NaN</td>\n      <td>GOOD GAME</td>\n      <td>Resident Evil: Operation Raccoon City - Playst...</td>\n      <td>by\\n    \\n    Capcom</td>\n    </tr>\n    <tr>\n      <th>2</th>\n      <td>B004UDB9SA</td>\n      <td>ATFTEK383YJ28</td>\n      <td>tim l.</td>\n      <td>5</td>\n      <td>2015-04-03 00:00:00</td>\n      <td>1428019200</td>\n      <td>Five Stars</td>\n      <td>NaN</td>\n      <td>Ok</td>\n      <td>Resident Evil: Operation Raccoon City - Playst...</td>\n      <td>by\\n    \\n    Capcom</td>\n    </tr>\n    <tr>\n      <th>3</th>\n      <td>B004UDB9SA</td>\n      <td>A3JE7R2WFCEBQN</td>\n      <td>Randy BoBandy</td>\n      <td>1</td>\n      <td>2015-03-26 00:00:00</td>\n      <td>1427328000</td>\n      <td>Yet another terrible spin-off cashing in on th...</td>\n      <td>NaN</td>\n      <td>Capcom is one of the greediest and lazy game d...</td>\n      <td>Resident Evil: Operation Raccoon City - Playst...</td>\n      <td>by\\n    \\n    Capcom</td>\n    </tr>\n    <tr>\n      <th>4</th>\n      <td>B004UDB9SA</td>\n      <td>A3MH8YUUJCJHIS</td>\n      <td>Glen49</td>\n      <td>5</td>\n      <td>2015-03-22 00:00:00</td>\n      <td>1426982400</td>\n      <td>Five Stars</td>\n      <td>NaN</td>\n      <td>OK</td>\n      <td>Resident Evil: Operation Raccoon City - Playst...</td>\n      <td>by\\n    \\n    Capcom</td>\n    </tr>\n    <tr>\n      <th>...</th>\n      <td>...</td>\n      <td>...</td>\n      <td>...</td>\n      <td>...</td>\n      <td>...</td>\n      <td>...</td>\n      <td>...</td>\n      <td>...</td>\n      <td>...</td>\n      <td>...</td>\n      <td>...</td>\n    </tr>\n    <tr>\n      <th>2467152</th>\n      <td>B012B6XWA0</td>\n      <td>A2HRN7YQ5TQ5VT</td>\n      <td>Andrew</td>\n      <td>2</td>\n      <td>2015-10-22 00:00:00</td>\n      <td>1445472000</td>\n      <td>To small</td>\n      <td>NaN</td>\n      <td>This mouse is too small.  I would stay away fr...</td>\n      <td>BenQ Zowie ZA12 E-Sports Ambidextrous Optical ...</td>\n      <td>BenQ</td>\n    </tr>\n    <tr>\n      <th>2467153</th>\n      <td>B012B6XWA0</td>\n      <td>A2CQVQN24YXURG</td>\n      <td>Lacivious</td>\n      <td>4</td>\n      <td>2015-10-17 00:00:00</td>\n      <td>1445040000</td>\n      <td>Grab your Snow Shovel, and your pajamas, and s...</td>\n      <td>3</td>\n      <td>So i just got these today. Wow i already have ...</td>\n      <td>BenQ Zowie ZA12 E-Sports Ambidextrous Optical ...</td>\n      <td>BenQ</td>\n    </tr>\n    <tr>\n      <th>2467154</th>\n      <td>B012B6XWA0</td>\n      <td>A1TCXZC1ZCJELI</td>\n      <td>Vu</td>\n      <td>5</td>\n      <td>2015-10-16 00:00:00</td>\n      <td>1444953600</td>\n      <td>I have nothing but good things to say about th...</td>\n      <td>2</td>\n      <td>Regarding ZA13:\\nI have nothing but good thing...</td>\n      <td>BenQ Zowie ZA12 E-Sports Ambidextrous Optical ...</td>\n      <td>BenQ</td>\n    </tr>\n    <tr>\n      <th>2467155</th>\n      <td>B012B6XWA0</td>\n      <td>A1OZJI75NABCPM</td>\n      <td>Sven</td>\n      <td>3</td>\n      <td>2015-09-20 00:00:00</td>\n      <td>1442707200</td>\n      <td>I was completely happy with this mouse for a f...</td>\n      <td>4</td>\n      <td>I was completely happy with this mouse for a f...</td>\n      <td>BenQ Zowie ZA12 E-Sports Ambidextrous Optical ...</td>\n      <td>BenQ</td>\n    </tr>\n    <tr>\n      <th>2467156</th>\n      <td>B012B6XWA0</td>\n      <td>AKKBIRYCGAS5N</td>\n      <td>PB</td>\n      <td>5</td>\n      <td>2015-09-14 00:00:00</td>\n      <td>1442188800</td>\n      <td>Five Stars</td>\n      <td>NaN</td>\n      <td>Love the mouse, awesome build quality, perfect...</td>\n      <td>BenQ Zowie ZA12 E-Sports Ambidextrous Optical ...</td>\n      <td>BenQ</td>\n    </tr>\n  </tbody>\n</table>\n<p>2467157 rows × 11 columns</p>\n</div>"
     },
     "execution_count": 34,
     "metadata": {},
     "output_type": "execute_result"
    }
   ],
   "source": [
    "path = 'Data/Reviews_With_Metadata.csv' \n",
    "Reviews_With_Metadata = pd.read_csv(path)\n",
    "Reviews_With_Metadata"
   ],
   "metadata": {
    "collapsed": false,
    "ExecuteTime": {
     "end_time": "2023-12-19T12:33:08.203423Z",
     "start_time": "2023-12-19T12:32:45.950906Z"
    }
   },
   "id": "5e069b612f3ea433"
  },
  {
   "cell_type": "code",
   "execution_count": null,
   "outputs": [],
   "source": [],
   "metadata": {
    "collapsed": false
   },
   "id": "de49c76e8cdf365c"
  }
 ],
 "metadata": {
  "kernelspec": {
   "display_name": "Python 3",
   "language": "python",
   "name": "python3"
  },
  "language_info": {
   "codemirror_mode": {
    "name": "ipython",
    "version": 2
   },
   "file_extension": ".py",
   "mimetype": "text/x-python",
   "name": "python",
   "nbconvert_exporter": "python",
   "pygments_lexer": "ipython2",
   "version": "2.7.6"
  }
 },
 "nbformat": 4,
 "nbformat_minor": 5
}
