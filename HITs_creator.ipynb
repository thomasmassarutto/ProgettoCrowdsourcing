{
 "cells": [
  {
   "cell_type": "code",
   "execution_count": 2,
   "id": "initial_id",
   "metadata": {
    "collapsed": true,
    "ExecuteTime": {
     "end_time": "2023-12-19T16:08:46.077182Z",
     "start_time": "2023-12-19T16:08:46.064999Z"
    }
   },
   "outputs": [],
   "source": [
    "import pandas as pd\n",
    "import numpy as np\n",
    "import random"
   ]
  },
  {
   "cell_type": "code",
   "execution_count": 4,
   "outputs": [
    {
     "data": {
      "text/plain": "   product_asin     reviewer_id         reviewer_name  review_score  \\\n0    B000067DPI  A2GJMKHNINTTKX                    MJ             3   \n1    B00005MHMH   A8ZOVJXNE4ZO5             allinpapa             5   \n2    B003BVIXWW  A3VGQ1X5PUPQI1          Rodger Booth             1   \n3    B001KC02NW  A3LN0F6YHHV3AW       Amazon Customer             1   \n4    B000UW21A0  A1Q9XCZ5L0PH54        David Williams             3   \n5    B003Z9L3EA   A7L9EMGRIE9GI             Ronito101             3   \n6    B00004YUBK   ATMQ311QH86HN        Phantasmagoria             4   \n7    B00005BIGE  A3NFK102BPSDD1                Pirate             1   \n8    B00Q7M5QR2  A2SNFWZSQ1IZLV   Kristian Richardson             4   \n9    B00AR03O92  A3R30JD03L26N4                Ptaaty             4   \n10   B001R2VW70  A14GCLC1Z07LST            C. Whitmer             3   \n11   B004CSXN50   ATO2H7D1W1II8  Lisa Slagis Geffeney             1   \n12   B000GP6HQA   A54A3V9TDHMKC               T. Dang             4   \n13   B0016041LW  A2EZSFGOHARIE9               mits777             5   \n14   B001E8VB3C  A2OR09N5HH20PY             Raul Duke             5   \n\n            review_time  review_time_unix  \\\n0   2003-05-20 00:00:00        1053388800   \n1   2006-08-31 00:00:00        1156982400   \n2   2013-07-08 00:00:00        1373241600   \n3   2011-01-08 00:00:00        1294444800   \n4   2016-02-29 00:00:00        1456704000   \n5   2011-09-20 00:00:00        1316476800   \n6   2000-12-08 00:00:00         976233600   \n7   2001-06-14 00:00:00         992476800   \n8   2015-07-30 00:00:00        1438214400   \n9   2013-02-02 00:00:00        1359763200   \n10  2011-06-30 00:00:00        1309392000   \n11  2012-01-14 00:00:00        1326499200   \n12  2007-12-31 00:00:00        1199059200   \n13  2008-11-14 00:00:00        1226620800   \n14  2009-08-25 00:00:00        1251158400   \n\n                                       review_summary  review_upvote  \\\n0                                  Good but not Great            4.0   \n1                            DIRT TRACK FIRE N RESCUE            2.0   \n2                     This download from Amazon Sucks            3.0   \n3                gave stalls and won't let me play it            2.0   \n4                                  Just About Average            2.0   \n5                              Not what i hoped for!!            2.0   \n6                        Rousing action and adventure           11.0   \n7                                        Whats so fun            2.0   \n8    One battery doesn't work. Other one is fantastic            3.0   \n9   Great mix of Metroidvania adventure and twin s...            2.0   \n10                                             Decent            2.0   \n11                          Perfect aftermarket feel.            2.0   \n12                           my favorite mouse so far            2.0   \n13                                   Pretty Darn Good            2.0   \n14                          Best Comic Game Ever Made            4.0   \n\n                                          review_text  \\\n0   The game is good.  I admit I have not gotten v...   \n1   I DO FIRE FOR DIRT TRACK RACING THIS GAME COME...   \n2   It took 45 minutes to download and I have 85 o...   \n3   I like the idea of the game,  but i can't get ...   \n4   Uncharted Drake's Fortune had a great game con...   \n5   Naruto has been one of the great anime/manga o...   \n6   This is a nice port of a pc game to the DC som...   \n7   I think its stupid game\\nTheres no fun at all ...   \n8   One battery doesn't charge at all, for some re...   \n9   You might be looking at the MS 5 pack wonderin...   \n10  Ok so you get 2 things here, 2 back triggers (...   \n11  Seems to struggle to calibrate when playing.  ...   \n12  I bought this mouse because of its design.  I ...   \n13  Yes this controller does not have six axis con...   \n14  i haven't gotten far enough to give too many d...   \n\n                                        product_title  \\\n0                                     Pro Race Driver   \n1                            Dirt Track Racing 2 - PC   \n2   Silent Hunter 5: Battle of the Atlantic GOLD e...   \n3                          Scrapbook Paige [Download]   \n4          Uncharted: Drake's Fortune - Playstation 3   \n5   Naruto Shippuden: Naruto vs. Sasuke - Nintendo DS   \n6                    Prince of Persia: Arabian Nights   \n7                                      Rayman Advance   \n8   InSassy (TM) Dual Charging Dock + 2 Rechargeab...   \n9           Insanely Twisted Shadow Planet [Download]   \n10                              PS3 Trigger and Stick   \n11  Black Motion Plus Add-on Attachment for Ninten...   \n12              Logitech G3 Laser Mouse (931691-0403)   \n13                            PS3 Wireless Controller   \n14                                             Batman   \n\n                product_brand  \n0                       Atari  \n1                   Infogames  \n2                     Ubisoft  \n3               Aisle 5 Games  \n4            Naughty Dog Inc.  \n5                      Bandai  \n6                        Sega  \n7                     Ubisoft  \n8                     InSassy  \n9   Shadow Planet Productions  \n10                   Subsonic  \n11                   ESavings  \n12                   Logitech  \n13             Psyclone Games  \n14                   WB Games  ",
      "text/html": "<div>\n<style scoped>\n    .dataframe tbody tr th:only-of-type {\n        vertical-align: middle;\n    }\n\n    .dataframe tbody tr th {\n        vertical-align: top;\n    }\n\n    .dataframe thead th {\n        text-align: right;\n    }\n</style>\n<table border=\"1\" class=\"dataframe\">\n  <thead>\n    <tr style=\"text-align: right;\">\n      <th></th>\n      <th>product_asin</th>\n      <th>reviewer_id</th>\n      <th>reviewer_name</th>\n      <th>review_score</th>\n      <th>review_time</th>\n      <th>review_time_unix</th>\n      <th>review_summary</th>\n      <th>review_upvote</th>\n      <th>review_text</th>\n      <th>product_title</th>\n      <th>product_brand</th>\n    </tr>\n  </thead>\n  <tbody>\n    <tr>\n      <th>0</th>\n      <td>B000067DPI</td>\n      <td>A2GJMKHNINTTKX</td>\n      <td>MJ</td>\n      <td>3</td>\n      <td>2003-05-20 00:00:00</td>\n      <td>1053388800</td>\n      <td>Good but not Great</td>\n      <td>4.0</td>\n      <td>The game is good.  I admit I have not gotten v...</td>\n      <td>Pro Race Driver</td>\n      <td>Atari</td>\n    </tr>\n    <tr>\n      <th>1</th>\n      <td>B00005MHMH</td>\n      <td>A8ZOVJXNE4ZO5</td>\n      <td>allinpapa</td>\n      <td>5</td>\n      <td>2006-08-31 00:00:00</td>\n      <td>1156982400</td>\n      <td>DIRT TRACK FIRE N RESCUE</td>\n      <td>2.0</td>\n      <td>I DO FIRE FOR DIRT TRACK RACING THIS GAME COME...</td>\n      <td>Dirt Track Racing 2 - PC</td>\n      <td>Infogames</td>\n    </tr>\n    <tr>\n      <th>2</th>\n      <td>B003BVIXWW</td>\n      <td>A3VGQ1X5PUPQI1</td>\n      <td>Rodger Booth</td>\n      <td>1</td>\n      <td>2013-07-08 00:00:00</td>\n      <td>1373241600</td>\n      <td>This download from Amazon Sucks</td>\n      <td>3.0</td>\n      <td>It took 45 minutes to download and I have 85 o...</td>\n      <td>Silent Hunter 5: Battle of the Atlantic GOLD e...</td>\n      <td>Ubisoft</td>\n    </tr>\n    <tr>\n      <th>3</th>\n      <td>B001KC02NW</td>\n      <td>A3LN0F6YHHV3AW</td>\n      <td>Amazon Customer</td>\n      <td>1</td>\n      <td>2011-01-08 00:00:00</td>\n      <td>1294444800</td>\n      <td>gave stalls and won't let me play it</td>\n      <td>2.0</td>\n      <td>I like the idea of the game,  but i can't get ...</td>\n      <td>Scrapbook Paige [Download]</td>\n      <td>Aisle 5 Games</td>\n    </tr>\n    <tr>\n      <th>4</th>\n      <td>B000UW21A0</td>\n      <td>A1Q9XCZ5L0PH54</td>\n      <td>David Williams</td>\n      <td>3</td>\n      <td>2016-02-29 00:00:00</td>\n      <td>1456704000</td>\n      <td>Just About Average</td>\n      <td>2.0</td>\n      <td>Uncharted Drake's Fortune had a great game con...</td>\n      <td>Uncharted: Drake's Fortune - Playstation 3</td>\n      <td>Naughty Dog Inc.</td>\n    </tr>\n    <tr>\n      <th>5</th>\n      <td>B003Z9L3EA</td>\n      <td>A7L9EMGRIE9GI</td>\n      <td>Ronito101</td>\n      <td>3</td>\n      <td>2011-09-20 00:00:00</td>\n      <td>1316476800</td>\n      <td>Not what i hoped for!!</td>\n      <td>2.0</td>\n      <td>Naruto has been one of the great anime/manga o...</td>\n      <td>Naruto Shippuden: Naruto vs. Sasuke - Nintendo DS</td>\n      <td>Bandai</td>\n    </tr>\n    <tr>\n      <th>6</th>\n      <td>B00004YUBK</td>\n      <td>ATMQ311QH86HN</td>\n      <td>Phantasmagoria</td>\n      <td>4</td>\n      <td>2000-12-08 00:00:00</td>\n      <td>976233600</td>\n      <td>Rousing action and adventure</td>\n      <td>11.0</td>\n      <td>This is a nice port of a pc game to the DC som...</td>\n      <td>Prince of Persia: Arabian Nights</td>\n      <td>Sega</td>\n    </tr>\n    <tr>\n      <th>7</th>\n      <td>B00005BIGE</td>\n      <td>A3NFK102BPSDD1</td>\n      <td>Pirate</td>\n      <td>1</td>\n      <td>2001-06-14 00:00:00</td>\n      <td>992476800</td>\n      <td>Whats so fun</td>\n      <td>2.0</td>\n      <td>I think its stupid game\\nTheres no fun at all ...</td>\n      <td>Rayman Advance</td>\n      <td>Ubisoft</td>\n    </tr>\n    <tr>\n      <th>8</th>\n      <td>B00Q7M5QR2</td>\n      <td>A2SNFWZSQ1IZLV</td>\n      <td>Kristian Richardson</td>\n      <td>4</td>\n      <td>2015-07-30 00:00:00</td>\n      <td>1438214400</td>\n      <td>One battery doesn't work. Other one is fantastic</td>\n      <td>3.0</td>\n      <td>One battery doesn't charge at all, for some re...</td>\n      <td>InSassy (TM) Dual Charging Dock + 2 Rechargeab...</td>\n      <td>InSassy</td>\n    </tr>\n    <tr>\n      <th>9</th>\n      <td>B00AR03O92</td>\n      <td>A3R30JD03L26N4</td>\n      <td>Ptaaty</td>\n      <td>4</td>\n      <td>2013-02-02 00:00:00</td>\n      <td>1359763200</td>\n      <td>Great mix of Metroidvania adventure and twin s...</td>\n      <td>2.0</td>\n      <td>You might be looking at the MS 5 pack wonderin...</td>\n      <td>Insanely Twisted Shadow Planet [Download]</td>\n      <td>Shadow Planet Productions</td>\n    </tr>\n    <tr>\n      <th>10</th>\n      <td>B001R2VW70</td>\n      <td>A14GCLC1Z07LST</td>\n      <td>C. Whitmer</td>\n      <td>3</td>\n      <td>2011-06-30 00:00:00</td>\n      <td>1309392000</td>\n      <td>Decent</td>\n      <td>2.0</td>\n      <td>Ok so you get 2 things here, 2 back triggers (...</td>\n      <td>PS3 Trigger and Stick</td>\n      <td>Subsonic</td>\n    </tr>\n    <tr>\n      <th>11</th>\n      <td>B004CSXN50</td>\n      <td>ATO2H7D1W1II8</td>\n      <td>Lisa Slagis Geffeney</td>\n      <td>1</td>\n      <td>2012-01-14 00:00:00</td>\n      <td>1326499200</td>\n      <td>Perfect aftermarket feel.</td>\n      <td>2.0</td>\n      <td>Seems to struggle to calibrate when playing.  ...</td>\n      <td>Black Motion Plus Add-on Attachment for Ninten...</td>\n      <td>ESavings</td>\n    </tr>\n    <tr>\n      <th>12</th>\n      <td>B000GP6HQA</td>\n      <td>A54A3V9TDHMKC</td>\n      <td>T. Dang</td>\n      <td>4</td>\n      <td>2007-12-31 00:00:00</td>\n      <td>1199059200</td>\n      <td>my favorite mouse so far</td>\n      <td>2.0</td>\n      <td>I bought this mouse because of its design.  I ...</td>\n      <td>Logitech G3 Laser Mouse (931691-0403)</td>\n      <td>Logitech</td>\n    </tr>\n    <tr>\n      <th>13</th>\n      <td>B0016041LW</td>\n      <td>A2EZSFGOHARIE9</td>\n      <td>mits777</td>\n      <td>5</td>\n      <td>2008-11-14 00:00:00</td>\n      <td>1226620800</td>\n      <td>Pretty Darn Good</td>\n      <td>2.0</td>\n      <td>Yes this controller does not have six axis con...</td>\n      <td>PS3 Wireless Controller</td>\n      <td>Psyclone Games</td>\n    </tr>\n    <tr>\n      <th>14</th>\n      <td>B001E8VB3C</td>\n      <td>A2OR09N5HH20PY</td>\n      <td>Raul Duke</td>\n      <td>5</td>\n      <td>2009-08-25 00:00:00</td>\n      <td>1251158400</td>\n      <td>Best Comic Game Ever Made</td>\n      <td>4.0</td>\n      <td>i haven't gotten far enough to give too many d...</td>\n      <td>Batman</td>\n      <td>WB Games</td>\n    </tr>\n  </tbody>\n</table>\n</div>"
     },
     "execution_count": 4,
     "metadata": {},
     "output_type": "execute_result"
    }
   ],
   "source": [
    "df_HIT_reviews = pd.read_csv('df_HIT_reviews.csv')\n",
    "df_HIT_reviews"
   ],
   "metadata": {
    "collapsed": false,
    "ExecuteTime": {
     "end_time": "2023-12-19T15:21:15.259722Z",
     "start_time": "2023-12-19T15:21:15.175276Z"
    }
   },
   "id": "6a9b3a8e98226794"
  },
  {
   "cell_type": "code",
   "execution_count": 38,
   "outputs": [],
   "source": [
    "#deve creare la tupla con i 5 valori diversi e deve aggiornare il dict -> toglie l'elemento se arriva a 0\n",
    "\n",
    "def five_random_elements(dict, index):\n",
    "\n",
    "    if len(dict) < 5:\n",
    "        print('dict', dict)\n",
    "        raise ValueError(\"Il dizionario deve contenere almeno 5 chiavi.\")\n",
    "    \n",
    "    \n",
    "    #crea tupla randomizzando i valori\n",
    "    randomUnit = random.sample(list(dict.keys()), k=5)\n",
    "    \n",
    "    #####PROBLEMA######\n",
    "    #le key vengono randomizzate si ma oil problema è che alcune vengono scelte più delle altre, casualmente è corretto che accada, e quindi alla fine non si hanno abbastanza key da scegliere perchè si è nella situazione:\n",
    "    #dict {'B00005MHMH': 1, 'B003BVIXWW': 1, 'B000UW21A0': 1, 'B00004YUBK': 2}\n",
    "    #(sempre) accade che alcune key hanno valore > 1 (non ci sono elementi ripetuti nella stessa riga del df, non può accadere perchè vengono scelte random 5), si può usare anche il metodo seguente volendo:\n",
    "    '''\n",
    "    # Crea una lista di chiavi mescolate\n",
    "    shuffled_keys = list(my_dict.keys())\n",
    "    random.shuffle(shuffled_keys)\n",
    "\n",
    "    # Seleziona le prime 5 chiavi dalla lista mescolata\n",
    "    randomUnit = shuffled_keys[:5]\n",
    "    '''\n",
    "    #in questo modo si mischiano prima e si prendono le prime 5 => non posso prender e2 volte la stessa, ma il problema rimane\n",
    "    #una possibile soluzione sarebbe mettere i pesi alle key in base al loro valore ma questo comporta che non sono più mischiate e si finisce per averne di uguali nella stessa riga del df, avevo proivato così:\n",
    "    '''\n",
    "    keys = list(dictionary.keys())\n",
    "    weights = [max(1, dictionary[key]) for key in keys]  # I pesi devono essere almeno 1\n",
    "\n",
    "    # Scegli 5 chiavi uniche con probabilità proporzionale ai pesi\n",
    "    random_unit_keys = random.choices(keys, weights=weights, k=min(5, len(keys)))\n",
    "    '''\n",
    "    #non ho più voglia e sono fuso ciao good luck a chi prova\n",
    "    \n",
    "    \n",
    "    #aggiornare valore nel dizionario\n",
    "    for review in randomUnit:\n",
    "        dict[review] -= 1\n",
    "        \n",
    "    keys_void = [key for key, value in dict.items() if value == 0]\n",
    "    print(keys_void)\n",
    "\n",
    "    for key in keys_void:\n",
    "        del dict[key]\n",
    "    \n",
    "                \n",
    "    \n",
    "    randomUnit.insert(0, 'unit_'+str(index))\n",
    "    \n",
    "    unit = pd.DataFrame([randomUnit], columns=['HIT', 'Posizione 1' ,'Posizione 2','Posizione 3', 'Posizione 4', 'Posizione 5'])\n",
    "    \n",
    "\n",
    "            \n",
    "    return unit, dict"
   ],
   "metadata": {
    "collapsed": false,
    "ExecuteTime": {
     "end_time": "2023-12-19T18:10:58.639873Z",
     "start_time": "2023-12-19T18:10:58.625299Z"
    }
   },
   "id": "d709a8bfecbe8825"
  },
  {
   "cell_type": "code",
   "execution_count": 39,
   "outputs": [
    {
     "name": "stdout",
     "output_type": "stream",
     "text": [
      "[]\n",
      "{'B000067DPI': 4, 'B00005MHMH': 5, 'B003BVIXWW': 5, 'B001KC02NW': 5, 'B000UW21A0': 4, 'B003Z9L3EA': 4, 'B00004YUBK': 4, 'B00005BIGE': 5, 'B00Q7M5QR2': 5, 'B00AR03O92': 4, 'B001R2VW70': 5, 'B004CSXN50': 5, 'B000GP6HQA': 5, 'B0016041LW': 5, 'B001E8VB3C': 5}\n",
      "      HIT Posizione 1 Posizione 2 Posizione 3 Posizione 4 Posizione 5\n",
      "0  unit_0  B000UW21A0  B003Z9L3EA  B00AR03O92  B00004YUBK  B000067DPI\n"
     ]
    },
    {
     "ename": "NameError",
     "evalue": "name 'check_unique_elements' is not defined",
     "output_type": "error",
     "traceback": [
      "\u001B[0;31m---------------------------------------------------------------------------\u001B[0m",
      "\u001B[0;31mNameError\u001B[0m                                 Traceback (most recent call last)",
      "Cell \u001B[0;32mIn[39], line 15\u001B[0m\n\u001B[1;32m     12\u001B[0m     HITS \u001B[38;5;241m=\u001B[39m pd\u001B[38;5;241m.\u001B[39mconcat([HITS, unit], ignore_index\u001B[38;5;241m=\u001B[39m\u001B[38;5;28;01mTrue\u001B[39;00m)\n\u001B[1;32m     13\u001B[0m     \u001B[38;5;28mprint\u001B[39m(HITS)\n\u001B[0;32m---> 15\u001B[0m     check_unique_elements(HITS)\n\u001B[1;32m     17\u001B[0m HITS\u001B[38;5;241m.\u001B[39mto_csv(\u001B[38;5;124mr\u001B[39m\u001B[38;5;124m'\u001B[39m\u001B[38;5;124mHITS.csv\u001B[39m\u001B[38;5;124m'\u001B[39m, index\u001B[38;5;241m=\u001B[39m\u001B[38;5;28;01mFalse\u001B[39;00m)\n",
      "\u001B[0;31mNameError\u001B[0m: name 'check_unique_elements' is not defined"
     ]
    }
   ],
   "source": [
    "#dizionario che tiene traccia delle volte in cui una recensione viene inserita in una HIT\n",
    "counterPosition = {value: 5 for value in df_HIT_reviews['product_asin']}\n",
    "\n",
    "HITS = pd.DataFrame(columns=['HIT', 'Posizione 1' ,'Posizione 2','Posizione 3', 'Posizione 4', 'Posizione 5'])\n",
    "\n",
    "for index in range(15):\n",
    "    \n",
    "    results = five_random_elements(counterPosition, index)\n",
    "    unit = results[0]\n",
    "    counterPosition = results[1]\n",
    "    print(counterPosition)\n",
    "    HITS = pd.concat([HITS, unit], ignore_index=True)\n",
    "    print(HITS)\n",
    "    \n",
    "    check_unique_elements(HITS)\n",
    "    \n",
    "HITS.to_csv(r'HITS.csv', index=False)\n"
   ],
   "metadata": {
    "collapsed": false,
    "ExecuteTime": {
     "end_time": "2023-12-19T18:10:59.399174Z",
     "start_time": "2023-12-19T18:10:59.227698Z"
    }
   },
   "id": "d9040afd2fddbebb"
  },
  {
   "cell_type": "code",
   "execution_count": 145,
   "outputs": [
    {
     "name": "stdout",
     "output_type": "stream",
     "text": [
      "['c', 'b', 'e', 'a', 'd']\n"
     ]
    }
   ],
   "source": [
    "\n",
    "mio_dizionario = {'a': 1, 'b': 2, 'c': 3, 'd': 4, 'e': 5}\n",
    "\n",
    "try:\n",
    "    randomUnit = random.sample(list(mio_dizionario.keys()), 5)\n",
    "    print(randomUnit)\n",
    "except ValueError as e:\n",
    "    print(f\"Errore: {e}\")"
   ],
   "metadata": {
    "collapsed": false,
    "ExecuteTime": {
     "end_time": "2023-12-19T18:03:25.266567Z",
     "start_time": "2023-12-19T18:03:25.256357Z"
    }
   },
   "id": "c756989bc9620515"
  },
  {
   "cell_type": "code",
   "execution_count": 42,
   "outputs": [
    {
     "data": {
      "text/plain": "{'B000067DPI': 0,\n 'B00005MHMH': 0,\n 'B003BVIXWW': 0,\n 'B001KC02NW': 0,\n 'B000UW21A0': 0,\n 'B003Z9L3EA': 0,\n 'B00004YUBK': 0,\n 'B00005BIGE': 0,\n 'B00Q7M5QR2': 0,\n 'B00AR03O92': 0,\n 'B001R2VW70': 0,\n 'B004CSXN50': 0,\n 'B000GP6HQA': 0,\n 'B0016041LW': 0,\n 'B001E8VB3C': 0}"
     },
     "execution_count": 42,
     "metadata": {},
     "output_type": "execute_result"
    }
   ],
   "source": [
    "## prova ligu\n",
    "HITS = pd.DataFrame(columns=['HIT', 'Posizione 1' ,'Posizione 2','Posizione 3', 'Posizione 4', 'Posizione 5'])\n",
    "\n",
    "contatore = {}\n",
    "\n",
    "for index in df_HIT_reviews.product_asin:\n",
    "    contatore[index] = 0\n",
    "\n",
    "\n",
    "#le chiavi del contatore sono unashable\n",
    "for i in range(75):\n",
    "    elemento_casuale = random.choice(list(contatore.keys()))\n",
    "    HITS[random.sample(range(0,15), 1), random.sample(range(1, 6), 1)] = elemento_casuale\n",
    "    contatore[elemento_casuale] += 1\n",
    "    contatore\n",
    "\n"
   ],
   "metadata": {
    "collapsed": false
   },
   "id": "bb10e86cb7eea5e8"
  },
  {
   "cell_type": "code",
   "execution_count": null,
   "outputs": [],
   "source": [],
   "metadata": {
    "collapsed": false,
    "pycharm": {
     "is_executing": true
    }
   }
  },
  {
   "cell_type": "code",
   "execution_count": 23,
   "outputs": [],
   "source": [],
   "metadata": {
    "collapsed": false
   }
  }
 ],
 "metadata": {
  "kernelspec": {
   "display_name": "Python 3",
   "language": "python",
   "name": "python3"
  },
  "language_info": {
   "codemirror_mode": {
    "name": "ipython",
    "version": 2
   },
   "file_extension": ".py",
   "mimetype": "text/x-python",
   "name": "python",
   "nbconvert_exporter": "python",
   "pygments_lexer": "ipython2",
   "version": "2.7.6"
  }
 },
 "nbformat": 4,
 "nbformat_minor": 5
}
