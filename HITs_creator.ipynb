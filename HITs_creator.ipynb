{
 "cells": [
  {
   "cell_type": "code",
   "execution_count": 1,
   "id": "initial_id",
   "metadata": {
    "collapsed": true,
    "ExecuteTime": {
     "end_time": "2023-12-20T09:50:26.340877Z",
     "start_time": "2023-12-20T09:50:25.651666Z"
    }
   },
   "outputs": [],
   "source": [
    "import pandas as pd\n",
    "import numpy as np\n",
    "import random"
   ]
  },
  {
   "cell_type": "code",
   "execution_count": 2,
   "outputs": [
    {
     "data": {
      "text/plain": "   product_asin     reviewer_id       reviewer_name  review_score  \\\n0    B015XC3B46  A12KQFV90UYVK1        Roman D Mayo             3   \n1    B00004SVUZ  A36BNNPV9REL0X    John L. Kittrell             5   \n2    B005ZNWT4C   AM5J9LC5O2NG3             Jose S.             5   \n3    B0050SYWGU  A2WODLH7HB6KJC              ADavis             5   \n4    B003TO59D2   AFVCQLCFNDDNE           SIGH.....             2   \n5    B01G6LXXWI  A2D8OO05VVOHDG              Robert             5   \n6    B0041RUM0Q  A2TUSRGNWHJHH6     Nicholas Cassel             3   \n7    B00QTSR5GO   ASRA2UZ3JV87B      Navarro Parker             5   \n8    B00PNVOBTC  A2UTEWYG6AFMIH             STINK64             5   \n9    B001DYVHY0   ADWH4MNYE44O9             B. Love             5   \n10   B00006JN5L  A2REE61LV9SH9X           BaBy BoiE             4   \n11   B0029MAXR2  A2R6GE92NRZAWE            Va- Bank             5   \n12   B000O39U3Q   A4SDPXR9LK0P6  Virginia B Carroll             4   \n13   B0002KMHD6  A3CHOZ6EWUG3PR          Lindsey C.             4   \n14   B0001DHQPI  A33YIZBDNCZQ1F             Ian Mok             5   \n\n            review_time  review_time_unix  \\\n0   2015-11-11 00:00:00        1447200000   \n1   2007-08-09 00:00:00        1186617600   \n2   2015-05-21 00:00:00        1432166400   \n3   2011-10-21 00:00:00        1319155200   \n4   2011-01-28 00:00:00        1296172800   \n5   2016-08-19 00:00:00        1471564800   \n6   2011-02-17 00:00:00        1297900800   \n7   2015-03-15 00:00:00        1426377600   \n8   2016-09-22 00:00:00        1474502400   \n9   2009-03-26 00:00:00        1238025600   \n10  2002-10-10 00:00:00        1034208000   \n11  2009-09-30 00:00:00        1254268800   \n12  2008-03-09 00:00:00        1205020800   \n13  2004-11-15 00:00:00        1100476800   \n14  2004-11-21 00:00:00        1100995200   \n\n                                       review_summary  review_upvote  \\\n0   Seems like a pet or child bumping into it woul...            7.0   \n1                                          Great game            2.0   \n2                                             LOVE IT            2.0   \n3                                         Great Game!           33.0   \n4                  WTF. it has more bugs than my X-gf            3.0   \n5   These are among the most nicely detailed amiib...            3.0   \n6                                  Get's the job done           11.0   \n7                      Best iOS controller out there!           17.0   \n8                                    WORKED PERFECTLY            2.0   \n9            Pretty awesome game missing one thing...            8.0   \n10                                         Great game            2.0   \n11                                  The wait is over.           19.0   \n12                                           Awesome!            2.0   \n13             more fun than setting stuff on fire...          110.0   \n14                              Amazing. Enough said.           10.0   \n\n                                          review_text  \\\n0   This product is decent, however, the base of t...   \n1   I've tried this game. You have to learn it fir...   \n2   Im a big Hatsune MIku fan and when i saw this ...   \n3   I have had this game for a few hours now, and ...   \n4   once i get past the first mission it QUITS lik...   \n5   These are among the most nicely detailed amiib...   \n6   I bought this charger around December and so f...   \n7   Hands down, the best feeling iOS controller ou...   \n8   WORKED PERFECTLY IN MY RETRO FREAK CONSOLE. NO...   \n9   Wanted: Weapons of Fate for PS3 is an awesome ...   \n10  This game is the best one yet the game play is...   \n11  I almost bought an Xbox 360 just to play Ninja...   \n12  I'm a computer teacher, teaching children ages...   \n13  Talk about the next generation of gaming, this...   \n14  Rainbow Six 3 is simply one of the best games ...   \n\n                                        product_title         product_brand  \\\n0   Zacro PS4 Vertical Stand Cooling Fan Dual Char...                 Zacro   \n1       Star Trek: The Next Generation - Nintendo NES  ABSOLUTE VIDEO GAMES   \n2   Sega Hatsune Miku: Project Diva Extend for PSP...                  Sega   \n3                   Rocksmith Guitar Bundle -Xbox 360               Ubisoft   \n4             Theatre of War 2: Kursk 1943 [Download]                    1C   \n5   amllbo [aori/fire Fly] (Splatoon series)Ninten...              Nintendo   \n6       Xbox 360 Power Base Induction Charger - Black             dreamGEAR   \n7   SteelSeries Stratus XL Bluetooth Wireless Gami...           SteelSeries   \n8   Nintendo NES to Famicom Game Converter Adapter...   Classic Game Source   \n9             Wanted: Weapons of Fate - Playstation 3              WB Games   \n10                                      NBA Live 2003              Nintendo   \n11                         Ninja Gaiden Sigma 2 (PS3)            Tecmo Koei   \n12  Adventure Workshop Preschool-1st Grade 8th Edi...                Encore   \n13        Eyetoy Antigrav with Camera - PlayStation 2                  Sony   \n14                           Rainbow Six 3 - Gamecube               Ubisoft   \n\n                          uniqueID  \n0   Pair_A12KQFV90UYVK1-B015XC3B46  \n1   Pair_A36BNNPV9REL0X-B00004SVUZ  \n2    Pair_AM5J9LC5O2NG3-B005ZNWT4C  \n3   Pair_A2WODLH7HB6KJC-B0050SYWGU  \n4    Pair_AFVCQLCFNDDNE-B003TO59D2  \n5   Pair_A2D8OO05VVOHDG-B01G6LXXWI  \n6   Pair_A2TUSRGNWHJHH6-B0041RUM0Q  \n7    Pair_ASRA2UZ3JV87B-B00QTSR5GO  \n8   Pair_A2UTEWYG6AFMIH-B00PNVOBTC  \n9    Pair_ADWH4MNYE44O9-B001DYVHY0  \n10  Pair_A2REE61LV9SH9X-B00006JN5L  \n11  Pair_A2R6GE92NRZAWE-B0029MAXR2  \n12   Pair_A4SDPXR9LK0P6-B000O39U3Q  \n13  Pair_A3CHOZ6EWUG3PR-B0002KMHD6  \n14  Pair_A33YIZBDNCZQ1F-B0001DHQPI  ",
      "text/html": "<div>\n<style scoped>\n    .dataframe tbody tr th:only-of-type {\n        vertical-align: middle;\n    }\n\n    .dataframe tbody tr th {\n        vertical-align: top;\n    }\n\n    .dataframe thead th {\n        text-align: right;\n    }\n</style>\n<table border=\"1\" class=\"dataframe\">\n  <thead>\n    <tr style=\"text-align: right;\">\n      <th></th>\n      <th>product_asin</th>\n      <th>reviewer_id</th>\n      <th>reviewer_name</th>\n      <th>review_score</th>\n      <th>review_time</th>\n      <th>review_time_unix</th>\n      <th>review_summary</th>\n      <th>review_upvote</th>\n      <th>review_text</th>\n      <th>product_title</th>\n      <th>product_brand</th>\n      <th>uniqueID</th>\n    </tr>\n  </thead>\n  <tbody>\n    <tr>\n      <th>0</th>\n      <td>B015XC3B46</td>\n      <td>A12KQFV90UYVK1</td>\n      <td>Roman D Mayo</td>\n      <td>3</td>\n      <td>2015-11-11 00:00:00</td>\n      <td>1447200000</td>\n      <td>Seems like a pet or child bumping into it woul...</td>\n      <td>7.0</td>\n      <td>This product is decent, however, the base of t...</td>\n      <td>Zacro PS4 Vertical Stand Cooling Fan Dual Char...</td>\n      <td>Zacro</td>\n      <td>Pair_A12KQFV90UYVK1-B015XC3B46</td>\n    </tr>\n    <tr>\n      <th>1</th>\n      <td>B00004SVUZ</td>\n      <td>A36BNNPV9REL0X</td>\n      <td>John L. Kittrell</td>\n      <td>5</td>\n      <td>2007-08-09 00:00:00</td>\n      <td>1186617600</td>\n      <td>Great game</td>\n      <td>2.0</td>\n      <td>I've tried this game. You have to learn it fir...</td>\n      <td>Star Trek: The Next Generation - Nintendo NES</td>\n      <td>ABSOLUTE VIDEO GAMES</td>\n      <td>Pair_A36BNNPV9REL0X-B00004SVUZ</td>\n    </tr>\n    <tr>\n      <th>2</th>\n      <td>B005ZNWT4C</td>\n      <td>AM5J9LC5O2NG3</td>\n      <td>Jose S.</td>\n      <td>5</td>\n      <td>2015-05-21 00:00:00</td>\n      <td>1432166400</td>\n      <td>LOVE IT</td>\n      <td>2.0</td>\n      <td>Im a big Hatsune MIku fan and when i saw this ...</td>\n      <td>Sega Hatsune Miku: Project Diva Extend for PSP...</td>\n      <td>Sega</td>\n      <td>Pair_AM5J9LC5O2NG3-B005ZNWT4C</td>\n    </tr>\n    <tr>\n      <th>3</th>\n      <td>B0050SYWGU</td>\n      <td>A2WODLH7HB6KJC</td>\n      <td>ADavis</td>\n      <td>5</td>\n      <td>2011-10-21 00:00:00</td>\n      <td>1319155200</td>\n      <td>Great Game!</td>\n      <td>33.0</td>\n      <td>I have had this game for a few hours now, and ...</td>\n      <td>Rocksmith Guitar Bundle -Xbox 360</td>\n      <td>Ubisoft</td>\n      <td>Pair_A2WODLH7HB6KJC-B0050SYWGU</td>\n    </tr>\n    <tr>\n      <th>4</th>\n      <td>B003TO59D2</td>\n      <td>AFVCQLCFNDDNE</td>\n      <td>SIGH.....</td>\n      <td>2</td>\n      <td>2011-01-28 00:00:00</td>\n      <td>1296172800</td>\n      <td>WTF. it has more bugs than my X-gf</td>\n      <td>3.0</td>\n      <td>once i get past the first mission it QUITS lik...</td>\n      <td>Theatre of War 2: Kursk 1943 [Download]</td>\n      <td>1C</td>\n      <td>Pair_AFVCQLCFNDDNE-B003TO59D2</td>\n    </tr>\n    <tr>\n      <th>5</th>\n      <td>B01G6LXXWI</td>\n      <td>A2D8OO05VVOHDG</td>\n      <td>Robert</td>\n      <td>5</td>\n      <td>2016-08-19 00:00:00</td>\n      <td>1471564800</td>\n      <td>These are among the most nicely detailed amiib...</td>\n      <td>3.0</td>\n      <td>These are among the most nicely detailed amiib...</td>\n      <td>amllbo [aori/fire Fly] (Splatoon series)Ninten...</td>\n      <td>Nintendo</td>\n      <td>Pair_A2D8OO05VVOHDG-B01G6LXXWI</td>\n    </tr>\n    <tr>\n      <th>6</th>\n      <td>B0041RUM0Q</td>\n      <td>A2TUSRGNWHJHH6</td>\n      <td>Nicholas Cassel</td>\n      <td>3</td>\n      <td>2011-02-17 00:00:00</td>\n      <td>1297900800</td>\n      <td>Get's the job done</td>\n      <td>11.0</td>\n      <td>I bought this charger around December and so f...</td>\n      <td>Xbox 360 Power Base Induction Charger - Black</td>\n      <td>dreamGEAR</td>\n      <td>Pair_A2TUSRGNWHJHH6-B0041RUM0Q</td>\n    </tr>\n    <tr>\n      <th>7</th>\n      <td>B00QTSR5GO</td>\n      <td>ASRA2UZ3JV87B</td>\n      <td>Navarro Parker</td>\n      <td>5</td>\n      <td>2015-03-15 00:00:00</td>\n      <td>1426377600</td>\n      <td>Best iOS controller out there!</td>\n      <td>17.0</td>\n      <td>Hands down, the best feeling iOS controller ou...</td>\n      <td>SteelSeries Stratus XL Bluetooth Wireless Gami...</td>\n      <td>SteelSeries</td>\n      <td>Pair_ASRA2UZ3JV87B-B00QTSR5GO</td>\n    </tr>\n    <tr>\n      <th>8</th>\n      <td>B00PNVOBTC</td>\n      <td>A2UTEWYG6AFMIH</td>\n      <td>STINK64</td>\n      <td>5</td>\n      <td>2016-09-22 00:00:00</td>\n      <td>1474502400</td>\n      <td>WORKED PERFECTLY</td>\n      <td>2.0</td>\n      <td>WORKED PERFECTLY IN MY RETRO FREAK CONSOLE. NO...</td>\n      <td>Nintendo NES to Famicom Game Converter Adapter...</td>\n      <td>Classic Game Source</td>\n      <td>Pair_A2UTEWYG6AFMIH-B00PNVOBTC</td>\n    </tr>\n    <tr>\n      <th>9</th>\n      <td>B001DYVHY0</td>\n      <td>ADWH4MNYE44O9</td>\n      <td>B. Love</td>\n      <td>5</td>\n      <td>2009-03-26 00:00:00</td>\n      <td>1238025600</td>\n      <td>Pretty awesome game missing one thing...</td>\n      <td>8.0</td>\n      <td>Wanted: Weapons of Fate for PS3 is an awesome ...</td>\n      <td>Wanted: Weapons of Fate - Playstation 3</td>\n      <td>WB Games</td>\n      <td>Pair_ADWH4MNYE44O9-B001DYVHY0</td>\n    </tr>\n    <tr>\n      <th>10</th>\n      <td>B00006JN5L</td>\n      <td>A2REE61LV9SH9X</td>\n      <td>BaBy BoiE</td>\n      <td>4</td>\n      <td>2002-10-10 00:00:00</td>\n      <td>1034208000</td>\n      <td>Great game</td>\n      <td>2.0</td>\n      <td>This game is the best one yet the game play is...</td>\n      <td>NBA Live 2003</td>\n      <td>Nintendo</td>\n      <td>Pair_A2REE61LV9SH9X-B00006JN5L</td>\n    </tr>\n    <tr>\n      <th>11</th>\n      <td>B0029MAXR2</td>\n      <td>A2R6GE92NRZAWE</td>\n      <td>Va- Bank</td>\n      <td>5</td>\n      <td>2009-09-30 00:00:00</td>\n      <td>1254268800</td>\n      <td>The wait is over.</td>\n      <td>19.0</td>\n      <td>I almost bought an Xbox 360 just to play Ninja...</td>\n      <td>Ninja Gaiden Sigma 2 (PS3)</td>\n      <td>Tecmo Koei</td>\n      <td>Pair_A2R6GE92NRZAWE-B0029MAXR2</td>\n    </tr>\n    <tr>\n      <th>12</th>\n      <td>B000O39U3Q</td>\n      <td>A4SDPXR9LK0P6</td>\n      <td>Virginia B Carroll</td>\n      <td>4</td>\n      <td>2008-03-09 00:00:00</td>\n      <td>1205020800</td>\n      <td>Awesome!</td>\n      <td>2.0</td>\n      <td>I'm a computer teacher, teaching children ages...</td>\n      <td>Adventure Workshop Preschool-1st Grade 8th Edi...</td>\n      <td>Encore</td>\n      <td>Pair_A4SDPXR9LK0P6-B000O39U3Q</td>\n    </tr>\n    <tr>\n      <th>13</th>\n      <td>B0002KMHD6</td>\n      <td>A3CHOZ6EWUG3PR</td>\n      <td>Lindsey C.</td>\n      <td>4</td>\n      <td>2004-11-15 00:00:00</td>\n      <td>1100476800</td>\n      <td>more fun than setting stuff on fire...</td>\n      <td>110.0</td>\n      <td>Talk about the next generation of gaming, this...</td>\n      <td>Eyetoy Antigrav with Camera - PlayStation 2</td>\n      <td>Sony</td>\n      <td>Pair_A3CHOZ6EWUG3PR-B0002KMHD6</td>\n    </tr>\n    <tr>\n      <th>14</th>\n      <td>B0001DHQPI</td>\n      <td>A33YIZBDNCZQ1F</td>\n      <td>Ian Mok</td>\n      <td>5</td>\n      <td>2004-11-21 00:00:00</td>\n      <td>1100995200</td>\n      <td>Amazing. Enough said.</td>\n      <td>10.0</td>\n      <td>Rainbow Six 3 is simply one of the best games ...</td>\n      <td>Rainbow Six 3 - Gamecube</td>\n      <td>Ubisoft</td>\n      <td>Pair_A33YIZBDNCZQ1F-B0001DHQPI</td>\n    </tr>\n  </tbody>\n</table>\n</div>"
     },
     "execution_count": 2,
     "metadata": {},
     "output_type": "execute_result"
    }
   ],
   "source": [
    "df_HIT_reviews = pd.read_csv('df_HIT_reviews.csv')\n",
    "df_HIT_reviews"
   ],
   "metadata": {
    "collapsed": false,
    "ExecuteTime": {
     "end_time": "2023-12-20T09:50:26.396186Z",
     "start_time": "2023-12-20T09:50:26.345835Z"
    }
   },
   "id": "6a9b3a8e98226794"
  },
  {
   "cell_type": "code",
   "execution_count": 8,
   "outputs": [],
   "source": [
    "#deve creare la tupla con i 5 valori diversi e deve aggiornare il dict -> toglie l'elemento se arriva a 0\n",
    "\n",
    "def five_random_elements(dict, index):\n",
    "\n",
    "    if len(dict) < 5:\n",
    "        print('dict', dict)\n",
    "        raise ValueError(\"Il dizionario deve contenere almeno 5 chiavi.\")\n",
    "    \n",
    "    \n",
    "    #crea tupla randomizzando i valori\n",
    "    randomUnit = random.sample(list(dict.keys()), k=5)\n",
    "    \n",
    "    #####PROBLEMA######\n",
    "    #le key vengono randomizzate si ma oil problema è che alcune vengono scelte più delle altre, casualmente è corretto che accada, e quindi alla fine non si hanno abbastanza key da scegliere perchè si è nella situazione:\n",
    "    #dict {'B00005MHMH': 1, 'B003BVIXWW': 1, 'B000UW21A0': 1, 'B00004YUBK': 2}\n",
    "    #(sempre) accade che alcune key hanno valore > 1 (non ci sono elementi ripetuti nella stessa riga del df, non può accadere perchè vengono scelte random 5), si può usare anche il metodo seguente volendo:\n",
    "    '''\n",
    "    # Crea una lista di chiavi mescolate\n",
    "    shuffled_keys = list(my_dict.keys())\n",
    "    random.shuffle(shuffled_keys)\n",
    "\n",
    "    # Seleziona le prime 5 chiavi dalla lista mescolata\n",
    "    randomUnit = shuffled_keys[:5]\n",
    "    '''\n",
    "    #in questo modo si mischiano prima e si prendono le prime 5 => non posso prender e2 volte la stessa, ma il problema rimane\n",
    "    #una possibile soluzione sarebbe mettere i pesi alle key in base al loro valore ma questo comporta che non sono più mischiate e si finisce per averne di uguali nella stessa riga del df, avevo proivato così:\n",
    "    '''\n",
    "    keys = list(dictionary.keys())\n",
    "    weights = [max(1, dictionary[key]) for key in keys]  # I pesi devono essere almeno 1\n",
    "\n",
    "    # Scegli 5 chiavi uniche con probabilità proporzionale ai pesi\n",
    "    random_unit_keys = random.choices(keys, weights=weights, k=min(5, len(keys)))\n",
    "    '''\n",
    "    #non ho più voglia e sono fuso ciao good luck a chi prova\n",
    "    \n",
    "    \n",
    "    #aggiornare valore nel dizionario\n",
    "    for review in randomUnit:\n",
    "        dict[review] -= 1\n",
    "        \n",
    "    keys_void = [key for key, value in dict.items() if value == 0]\n",
    "    print(keys_void)\n",
    "\n",
    "    for key in keys_void:\n",
    "        del dict[key]\n",
    "    \n",
    "                \n",
    "    \n",
    "    randomUnit.insert(0, 'unit_'+str(index))\n",
    "    \n",
    "    unit = pd.DataFrame([randomUnit], columns=['HIT', 'Posizione 1' ,'Posizione 2','Posizione 3', 'Posizione 4', 'Posizione 5'])\n",
    "    \n",
    "\n",
    "            \n",
    "    return unit, dict"
   ],
   "metadata": {
    "collapsed": false,
    "ExecuteTime": {
     "end_time": "2023-12-20T09:52:45.550657Z",
     "start_time": "2023-12-20T09:52:45.524159Z"
    }
   },
   "id": "d709a8bfecbe8825"
  },
  {
   "cell_type": "code",
   "execution_count": 9,
   "outputs": [
    {
     "name": "stdout",
     "output_type": "stream",
     "text": [
      "[]\n",
      "{'B015XC3B46': 4, 'B00004SVUZ': 4, 'B005ZNWT4C': 5, 'B0050SYWGU': 4, 'B003TO59D2': 5, 'B01G6LXXWI': 4, 'B0041RUM0Q': 5, 'B00QTSR5GO': 5, 'B00PNVOBTC': 5, 'B001DYVHY0': 5, 'B00006JN5L': 5, 'B0029MAXR2': 5, 'B000O39U3Q': 5, 'B0002KMHD6': 5, 'B0001DHQPI': 4}\n",
      "      HIT Posizione 1 Posizione 2 Posizione 3 Posizione 4 Posizione 5\n",
      "0  unit_0  B0001DHQPI  B00004SVUZ  B015XC3B46  B01G6LXXWI  B0050SYWGU\n",
      "[]\n",
      "{'B015XC3B46': 3, 'B00004SVUZ': 4, 'B005ZNWT4C': 4, 'B0050SYWGU': 3, 'B003TO59D2': 4, 'B01G6LXXWI': 4, 'B0041RUM0Q': 5, 'B00QTSR5GO': 5, 'B00PNVOBTC': 5, 'B001DYVHY0': 4, 'B00006JN5L': 5, 'B0029MAXR2': 5, 'B000O39U3Q': 5, 'B0002KMHD6': 5, 'B0001DHQPI': 4}\n",
      "      HIT Posizione 1 Posizione 2 Posizione 3 Posizione 4 Posizione 5\n",
      "0  unit_0  B0001DHQPI  B00004SVUZ  B015XC3B46  B01G6LXXWI  B0050SYWGU\n",
      "1  unit_1  B015XC3B46  B003TO59D2  B0050SYWGU  B005ZNWT4C  B001DYVHY0\n",
      "[]\n",
      "{'B015XC3B46': 3, 'B00004SVUZ': 4, 'B005ZNWT4C': 3, 'B0050SYWGU': 3, 'B003TO59D2': 4, 'B01G6LXXWI': 3, 'B0041RUM0Q': 5, 'B00QTSR5GO': 5, 'B00PNVOBTC': 4, 'B001DYVHY0': 4, 'B00006JN5L': 5, 'B0029MAXR2': 4, 'B000O39U3Q': 5, 'B0002KMHD6': 5, 'B0001DHQPI': 3}\n",
      "      HIT Posizione 1 Posizione 2 Posizione 3 Posizione 4 Posizione 5\n",
      "0  unit_0  B0001DHQPI  B00004SVUZ  B015XC3B46  B01G6LXXWI  B0050SYWGU\n",
      "1  unit_1  B015XC3B46  B003TO59D2  B0050SYWGU  B005ZNWT4C  B001DYVHY0\n",
      "2  unit_2  B00PNVOBTC  B005ZNWT4C  B0029MAXR2  B01G6LXXWI  B0001DHQPI\n",
      "[]\n",
      "{'B015XC3B46': 2, 'B00004SVUZ': 4, 'B005ZNWT4C': 3, 'B0050SYWGU': 2, 'B003TO59D2': 4, 'B01G6LXXWI': 3, 'B0041RUM0Q': 5, 'B00QTSR5GO': 4, 'B00PNVOBTC': 4, 'B001DYVHY0': 4, 'B00006JN5L': 5, 'B0029MAXR2': 4, 'B000O39U3Q': 4, 'B0002KMHD6': 5, 'B0001DHQPI': 2}\n",
      "      HIT Posizione 1 Posizione 2 Posizione 3 Posizione 4 Posizione 5\n",
      "0  unit_0  B0001DHQPI  B00004SVUZ  B015XC3B46  B01G6LXXWI  B0050SYWGU\n",
      "1  unit_1  B015XC3B46  B003TO59D2  B0050SYWGU  B005ZNWT4C  B001DYVHY0\n",
      "2  unit_2  B00PNVOBTC  B005ZNWT4C  B0029MAXR2  B01G6LXXWI  B0001DHQPI\n",
      "3  unit_3  B000O39U3Q  B0050SYWGU  B0001DHQPI  B015XC3B46  B00QTSR5GO\n",
      "[]\n",
      "{'B015XC3B46': 2, 'B00004SVUZ': 4, 'B005ZNWT4C': 3, 'B0050SYWGU': 2, 'B003TO59D2': 4, 'B01G6LXXWI': 2, 'B0041RUM0Q': 5, 'B00QTSR5GO': 4, 'B00PNVOBTC': 4, 'B001DYVHY0': 3, 'B00006JN5L': 4, 'B0029MAXR2': 3, 'B000O39U3Q': 4, 'B0002KMHD6': 4, 'B0001DHQPI': 2}\n",
      "      HIT Posizione 1 Posizione 2 Posizione 3 Posizione 4 Posizione 5\n",
      "0  unit_0  B0001DHQPI  B00004SVUZ  B015XC3B46  B01G6LXXWI  B0050SYWGU\n",
      "1  unit_1  B015XC3B46  B003TO59D2  B0050SYWGU  B005ZNWT4C  B001DYVHY0\n",
      "2  unit_2  B00PNVOBTC  B005ZNWT4C  B0029MAXR2  B01G6LXXWI  B0001DHQPI\n",
      "3  unit_3  B000O39U3Q  B0050SYWGU  B0001DHQPI  B015XC3B46  B00QTSR5GO\n",
      "4  unit_4  B00006JN5L  B001DYVHY0  B0029MAXR2  B0002KMHD6  B01G6LXXWI\n",
      "[]\n",
      "{'B015XC3B46': 2, 'B00004SVUZ': 4, 'B005ZNWT4C': 3, 'B0050SYWGU': 2, 'B003TO59D2': 4, 'B01G6LXXWI': 2, 'B0041RUM0Q': 4, 'B00QTSR5GO': 4, 'B00PNVOBTC': 4, 'B001DYVHY0': 2, 'B00006JN5L': 3, 'B0029MAXR2': 2, 'B000O39U3Q': 4, 'B0002KMHD6': 3, 'B0001DHQPI': 2}\n",
      "      HIT Posizione 1 Posizione 2 Posizione 3 Posizione 4 Posizione 5\n",
      "0  unit_0  B0001DHQPI  B00004SVUZ  B015XC3B46  B01G6LXXWI  B0050SYWGU\n",
      "1  unit_1  B015XC3B46  B003TO59D2  B0050SYWGU  B005ZNWT4C  B001DYVHY0\n",
      "2  unit_2  B00PNVOBTC  B005ZNWT4C  B0029MAXR2  B01G6LXXWI  B0001DHQPI\n",
      "3  unit_3  B000O39U3Q  B0050SYWGU  B0001DHQPI  B015XC3B46  B00QTSR5GO\n",
      "4  unit_4  B00006JN5L  B001DYVHY0  B0029MAXR2  B0002KMHD6  B01G6LXXWI\n",
      "5  unit_5  B00006JN5L  B0002KMHD6  B0029MAXR2  B0041RUM0Q  B001DYVHY0\n",
      "[]\n",
      "{'B015XC3B46': 2, 'B00004SVUZ': 3, 'B005ZNWT4C': 3, 'B0050SYWGU': 2, 'B003TO59D2': 4, 'B01G6LXXWI': 2, 'B0041RUM0Q': 4, 'B00QTSR5GO': 3, 'B00PNVOBTC': 4, 'B001DYVHY0': 2, 'B00006JN5L': 3, 'B0029MAXR2': 1, 'B000O39U3Q': 3, 'B0002KMHD6': 2, 'B0001DHQPI': 2}\n",
      "      HIT Posizione 1 Posizione 2 Posizione 3 Posizione 4 Posizione 5\n",
      "0  unit_0  B0001DHQPI  B00004SVUZ  B015XC3B46  B01G6LXXWI  B0050SYWGU\n",
      "1  unit_1  B015XC3B46  B003TO59D2  B0050SYWGU  B005ZNWT4C  B001DYVHY0\n",
      "2  unit_2  B00PNVOBTC  B005ZNWT4C  B0029MAXR2  B01G6LXXWI  B0001DHQPI\n",
      "3  unit_3  B000O39U3Q  B0050SYWGU  B0001DHQPI  B015XC3B46  B00QTSR5GO\n",
      "4  unit_4  B00006JN5L  B001DYVHY0  B0029MAXR2  B0002KMHD6  B01G6LXXWI\n",
      "5  unit_5  B00006JN5L  B0002KMHD6  B0029MAXR2  B0041RUM0Q  B001DYVHY0\n",
      "6  unit_6  B00004SVUZ  B00QTSR5GO  B0002KMHD6  B000O39U3Q  B0029MAXR2\n",
      "[]\n",
      "{'B015XC3B46': 1, 'B00004SVUZ': 3, 'B005ZNWT4C': 3, 'B0050SYWGU': 1, 'B003TO59D2': 3, 'B01G6LXXWI': 2, 'B0041RUM0Q': 4, 'B00QTSR5GO': 3, 'B00PNVOBTC': 4, 'B001DYVHY0': 1, 'B00006JN5L': 3, 'B0029MAXR2': 1, 'B000O39U3Q': 2, 'B0002KMHD6': 2, 'B0001DHQPI': 2}\n",
      "      HIT Posizione 1 Posizione 2 Posizione 3 Posizione 4 Posizione 5\n",
      "0  unit_0  B0001DHQPI  B00004SVUZ  B015XC3B46  B01G6LXXWI  B0050SYWGU\n",
      "1  unit_1  B015XC3B46  B003TO59D2  B0050SYWGU  B005ZNWT4C  B001DYVHY0\n",
      "2  unit_2  B00PNVOBTC  B005ZNWT4C  B0029MAXR2  B01G6LXXWI  B0001DHQPI\n",
      "3  unit_3  B000O39U3Q  B0050SYWGU  B0001DHQPI  B015XC3B46  B00QTSR5GO\n",
      "4  unit_4  B00006JN5L  B001DYVHY0  B0029MAXR2  B0002KMHD6  B01G6LXXWI\n",
      "5  unit_5  B00006JN5L  B0002KMHD6  B0029MAXR2  B0041RUM0Q  B001DYVHY0\n",
      "6  unit_6  B00004SVUZ  B00QTSR5GO  B0002KMHD6  B000O39U3Q  B0029MAXR2\n",
      "7  unit_7  B003TO59D2  B000O39U3Q  B0050SYWGU  B001DYVHY0  B015XC3B46\n",
      "['B0029MAXR2']\n",
      "{'B015XC3B46': 1, 'B00004SVUZ': 2, 'B005ZNWT4C': 3, 'B0050SYWGU': 1, 'B003TO59D2': 3, 'B01G6LXXWI': 2, 'B0041RUM0Q': 4, 'B00QTSR5GO': 3, 'B00PNVOBTC': 3, 'B001DYVHY0': 1, 'B00006JN5L': 3, 'B000O39U3Q': 1, 'B0002KMHD6': 2, 'B0001DHQPI': 1}\n",
      "      HIT Posizione 1 Posizione 2 Posizione 3 Posizione 4 Posizione 5\n",
      "0  unit_0  B0001DHQPI  B00004SVUZ  B015XC3B46  B01G6LXXWI  B0050SYWGU\n",
      "1  unit_1  B015XC3B46  B003TO59D2  B0050SYWGU  B005ZNWT4C  B001DYVHY0\n",
      "2  unit_2  B00PNVOBTC  B005ZNWT4C  B0029MAXR2  B01G6LXXWI  B0001DHQPI\n",
      "3  unit_3  B000O39U3Q  B0050SYWGU  B0001DHQPI  B015XC3B46  B00QTSR5GO\n",
      "4  unit_4  B00006JN5L  B001DYVHY0  B0029MAXR2  B0002KMHD6  B01G6LXXWI\n",
      "5  unit_5  B00006JN5L  B0002KMHD6  B0029MAXR2  B0041RUM0Q  B001DYVHY0\n",
      "6  unit_6  B00004SVUZ  B00QTSR5GO  B0002KMHD6  B000O39U3Q  B0029MAXR2\n",
      "7  unit_7  B003TO59D2  B000O39U3Q  B0050SYWGU  B001DYVHY0  B015XC3B46\n",
      "8  unit_8  B00PNVOBTC  B00004SVUZ  B0001DHQPI  B0029MAXR2  B000O39U3Q\n",
      "[]\n",
      "{'B015XC3B46': 1, 'B00004SVUZ': 2, 'B005ZNWT4C': 2, 'B0050SYWGU': 1, 'B003TO59D2': 3, 'B01G6LXXWI': 1, 'B0041RUM0Q': 3, 'B00QTSR5GO': 3, 'B00PNVOBTC': 3, 'B001DYVHY0': 1, 'B00006JN5L': 2, 'B000O39U3Q': 1, 'B0002KMHD6': 1, 'B0001DHQPI': 1}\n",
      "      HIT Posizione 1 Posizione 2 Posizione 3 Posizione 4 Posizione 5\n",
      "0  unit_0  B0001DHQPI  B00004SVUZ  B015XC3B46  B01G6LXXWI  B0050SYWGU\n",
      "1  unit_1  B015XC3B46  B003TO59D2  B0050SYWGU  B005ZNWT4C  B001DYVHY0\n",
      "2  unit_2  B00PNVOBTC  B005ZNWT4C  B0029MAXR2  B01G6LXXWI  B0001DHQPI\n",
      "3  unit_3  B000O39U3Q  B0050SYWGU  B0001DHQPI  B015XC3B46  B00QTSR5GO\n",
      "4  unit_4  B00006JN5L  B001DYVHY0  B0029MAXR2  B0002KMHD6  B01G6LXXWI\n",
      "5  unit_5  B00006JN5L  B0002KMHD6  B0029MAXR2  B0041RUM0Q  B001DYVHY0\n",
      "6  unit_6  B00004SVUZ  B00QTSR5GO  B0002KMHD6  B000O39U3Q  B0029MAXR2\n",
      "7  unit_7  B003TO59D2  B000O39U3Q  B0050SYWGU  B001DYVHY0  B015XC3B46\n",
      "8  unit_8  B00PNVOBTC  B00004SVUZ  B0001DHQPI  B0029MAXR2  B000O39U3Q\n",
      "9  unit_9  B0041RUM0Q  B00006JN5L  B01G6LXXWI  B0002KMHD6  B005ZNWT4C\n",
      "['B015XC3B46', 'B0050SYWGU']\n",
      "{'B00004SVUZ': 2, 'B005ZNWT4C': 1, 'B003TO59D2': 2, 'B01G6LXXWI': 1, 'B0041RUM0Q': 2, 'B00QTSR5GO': 3, 'B00PNVOBTC': 3, 'B001DYVHY0': 1, 'B00006JN5L': 2, 'B000O39U3Q': 1, 'B0002KMHD6': 1, 'B0001DHQPI': 1}\n",
      "        HIT Posizione 1 Posizione 2 Posizione 3 Posizione 4 Posizione 5\n",
      "0    unit_0  B0001DHQPI  B00004SVUZ  B015XC3B46  B01G6LXXWI  B0050SYWGU\n",
      "1    unit_1  B015XC3B46  B003TO59D2  B0050SYWGU  B005ZNWT4C  B001DYVHY0\n",
      "2    unit_2  B00PNVOBTC  B005ZNWT4C  B0029MAXR2  B01G6LXXWI  B0001DHQPI\n",
      "3    unit_3  B000O39U3Q  B0050SYWGU  B0001DHQPI  B015XC3B46  B00QTSR5GO\n",
      "4    unit_4  B00006JN5L  B001DYVHY0  B0029MAXR2  B0002KMHD6  B01G6LXXWI\n",
      "5    unit_5  B00006JN5L  B0002KMHD6  B0029MAXR2  B0041RUM0Q  B001DYVHY0\n",
      "6    unit_6  B00004SVUZ  B00QTSR5GO  B0002KMHD6  B000O39U3Q  B0029MAXR2\n",
      "7    unit_7  B003TO59D2  B000O39U3Q  B0050SYWGU  B001DYVHY0  B015XC3B46\n",
      "8    unit_8  B00PNVOBTC  B00004SVUZ  B0001DHQPI  B0029MAXR2  B000O39U3Q\n",
      "9    unit_9  B0041RUM0Q  B00006JN5L  B01G6LXXWI  B0002KMHD6  B005ZNWT4C\n",
      "10  unit_10  B0041RUM0Q  B015XC3B46  B003TO59D2  B0050SYWGU  B005ZNWT4C\n",
      "['B01G6LXXWI', 'B000O39U3Q']\n",
      "{'B00004SVUZ': 1, 'B005ZNWT4C': 1, 'B003TO59D2': 2, 'B0041RUM0Q': 1, 'B00QTSR5GO': 3, 'B00PNVOBTC': 2, 'B001DYVHY0': 1, 'B00006JN5L': 2, 'B0002KMHD6': 1, 'B0001DHQPI': 1}\n",
      "        HIT Posizione 1 Posizione 2 Posizione 3 Posizione 4 Posizione 5\n",
      "0    unit_0  B0001DHQPI  B00004SVUZ  B015XC3B46  B01G6LXXWI  B0050SYWGU\n",
      "1    unit_1  B015XC3B46  B003TO59D2  B0050SYWGU  B005ZNWT4C  B001DYVHY0\n",
      "2    unit_2  B00PNVOBTC  B005ZNWT4C  B0029MAXR2  B01G6LXXWI  B0001DHQPI\n",
      "3    unit_3  B000O39U3Q  B0050SYWGU  B0001DHQPI  B015XC3B46  B00QTSR5GO\n",
      "4    unit_4  B00006JN5L  B001DYVHY0  B0029MAXR2  B0002KMHD6  B01G6LXXWI\n",
      "5    unit_5  B00006JN5L  B0002KMHD6  B0029MAXR2  B0041RUM0Q  B001DYVHY0\n",
      "6    unit_6  B00004SVUZ  B00QTSR5GO  B0002KMHD6  B000O39U3Q  B0029MAXR2\n",
      "7    unit_7  B003TO59D2  B000O39U3Q  B0050SYWGU  B001DYVHY0  B015XC3B46\n",
      "8    unit_8  B00PNVOBTC  B00004SVUZ  B0001DHQPI  B0029MAXR2  B000O39U3Q\n",
      "9    unit_9  B0041RUM0Q  B00006JN5L  B01G6LXXWI  B0002KMHD6  B005ZNWT4C\n",
      "10  unit_10  B0041RUM0Q  B015XC3B46  B003TO59D2  B0050SYWGU  B005ZNWT4C\n",
      "11  unit_11  B00004SVUZ  B00PNVOBTC  B0041RUM0Q  B000O39U3Q  B01G6LXXWI\n",
      "['B00004SVUZ', 'B001DYVHY0', 'B0002KMHD6']\n",
      "{'B005ZNWT4C': 1, 'B003TO59D2': 1, 'B0041RUM0Q': 1, 'B00QTSR5GO': 3, 'B00PNVOBTC': 1, 'B00006JN5L': 2, 'B0001DHQPI': 1}\n",
      "        HIT Posizione 1 Posizione 2 Posizione 3 Posizione 4 Posizione 5\n",
      "0    unit_0  B0001DHQPI  B00004SVUZ  B015XC3B46  B01G6LXXWI  B0050SYWGU\n",
      "1    unit_1  B015XC3B46  B003TO59D2  B0050SYWGU  B005ZNWT4C  B001DYVHY0\n",
      "2    unit_2  B00PNVOBTC  B005ZNWT4C  B0029MAXR2  B01G6LXXWI  B0001DHQPI\n",
      "3    unit_3  B000O39U3Q  B0050SYWGU  B0001DHQPI  B015XC3B46  B00QTSR5GO\n",
      "4    unit_4  B00006JN5L  B001DYVHY0  B0029MAXR2  B0002KMHD6  B01G6LXXWI\n",
      "5    unit_5  B00006JN5L  B0002KMHD6  B0029MAXR2  B0041RUM0Q  B001DYVHY0\n",
      "6    unit_6  B00004SVUZ  B00QTSR5GO  B0002KMHD6  B000O39U3Q  B0029MAXR2\n",
      "7    unit_7  B003TO59D2  B000O39U3Q  B0050SYWGU  B001DYVHY0  B015XC3B46\n",
      "8    unit_8  B00PNVOBTC  B00004SVUZ  B0001DHQPI  B0029MAXR2  B000O39U3Q\n",
      "9    unit_9  B0041RUM0Q  B00006JN5L  B01G6LXXWI  B0002KMHD6  B005ZNWT4C\n",
      "10  unit_10  B0041RUM0Q  B015XC3B46  B003TO59D2  B0050SYWGU  B005ZNWT4C\n",
      "11  unit_11  B00004SVUZ  B00PNVOBTC  B0041RUM0Q  B000O39U3Q  B01G6LXXWI\n",
      "12  unit_12  B001DYVHY0  B00PNVOBTC  B003TO59D2  B0002KMHD6  B00004SVUZ\n",
      "['B005ZNWT4C', 'B0041RUM0Q', 'B0001DHQPI']\n",
      "{'B003TO59D2': 1, 'B00QTSR5GO': 2, 'B00PNVOBTC': 1, 'B00006JN5L': 1}\n",
      "        HIT Posizione 1 Posizione 2 Posizione 3 Posizione 4 Posizione 5\n",
      "0    unit_0  B0001DHQPI  B00004SVUZ  B015XC3B46  B01G6LXXWI  B0050SYWGU\n",
      "1    unit_1  B015XC3B46  B003TO59D2  B0050SYWGU  B005ZNWT4C  B001DYVHY0\n",
      "2    unit_2  B00PNVOBTC  B005ZNWT4C  B0029MAXR2  B01G6LXXWI  B0001DHQPI\n",
      "3    unit_3  B000O39U3Q  B0050SYWGU  B0001DHQPI  B015XC3B46  B00QTSR5GO\n",
      "4    unit_4  B00006JN5L  B001DYVHY0  B0029MAXR2  B0002KMHD6  B01G6LXXWI\n",
      "5    unit_5  B00006JN5L  B0002KMHD6  B0029MAXR2  B0041RUM0Q  B001DYVHY0\n",
      "6    unit_6  B00004SVUZ  B00QTSR5GO  B0002KMHD6  B000O39U3Q  B0029MAXR2\n",
      "7    unit_7  B003TO59D2  B000O39U3Q  B0050SYWGU  B001DYVHY0  B015XC3B46\n",
      "8    unit_8  B00PNVOBTC  B00004SVUZ  B0001DHQPI  B0029MAXR2  B000O39U3Q\n",
      "9    unit_9  B0041RUM0Q  B00006JN5L  B01G6LXXWI  B0002KMHD6  B005ZNWT4C\n",
      "10  unit_10  B0041RUM0Q  B015XC3B46  B003TO59D2  B0050SYWGU  B005ZNWT4C\n",
      "11  unit_11  B00004SVUZ  B00PNVOBTC  B0041RUM0Q  B000O39U3Q  B01G6LXXWI\n",
      "12  unit_12  B001DYVHY0  B00PNVOBTC  B003TO59D2  B0002KMHD6  B00004SVUZ\n",
      "13  unit_13  B00QTSR5GO  B005ZNWT4C  B0001DHQPI  B0041RUM0Q  B00006JN5L\n",
      "dict {'B003TO59D2': 1, 'B00QTSR5GO': 2, 'B00PNVOBTC': 1, 'B00006JN5L': 1}\n"
     ]
    },
    {
     "ename": "ValueError",
     "evalue": "Il dizionario deve contenere almeno 5 chiavi.",
     "output_type": "error",
     "traceback": [
      "\u001B[0;31m---------------------------------------------------------------------------\u001B[0m",
      "\u001B[0;31mValueError\u001B[0m                                Traceback (most recent call last)",
      "Cell \u001B[0;32mIn[9], line 8\u001B[0m\n\u001B[1;32m      4\u001B[0m HITS \u001B[38;5;241m=\u001B[39m pd\u001B[38;5;241m.\u001B[39mDataFrame(columns\u001B[38;5;241m=\u001B[39m[\u001B[38;5;124m'\u001B[39m\u001B[38;5;124mHIT\u001B[39m\u001B[38;5;124m'\u001B[39m, \u001B[38;5;124m'\u001B[39m\u001B[38;5;124mPosizione 1\u001B[39m\u001B[38;5;124m'\u001B[39m ,\u001B[38;5;124m'\u001B[39m\u001B[38;5;124mPosizione 2\u001B[39m\u001B[38;5;124m'\u001B[39m,\u001B[38;5;124m'\u001B[39m\u001B[38;5;124mPosizione 3\u001B[39m\u001B[38;5;124m'\u001B[39m, \u001B[38;5;124m'\u001B[39m\u001B[38;5;124mPosizione 4\u001B[39m\u001B[38;5;124m'\u001B[39m, \u001B[38;5;124m'\u001B[39m\u001B[38;5;124mPosizione 5\u001B[39m\u001B[38;5;124m'\u001B[39m])\n\u001B[1;32m      6\u001B[0m \u001B[38;5;28;01mfor\u001B[39;00m index \u001B[38;5;129;01min\u001B[39;00m \u001B[38;5;28mrange\u001B[39m(\u001B[38;5;241m15\u001B[39m):\n\u001B[0;32m----> 8\u001B[0m     results \u001B[38;5;241m=\u001B[39m \u001B[43mfive_random_elements\u001B[49m\u001B[43m(\u001B[49m\u001B[43mcounterPosition\u001B[49m\u001B[43m,\u001B[49m\u001B[43m \u001B[49m\u001B[43mindex\u001B[49m\u001B[43m)\u001B[49m\n\u001B[1;32m      9\u001B[0m     unit \u001B[38;5;241m=\u001B[39m results[\u001B[38;5;241m0\u001B[39m]\n\u001B[1;32m     10\u001B[0m     counterPosition \u001B[38;5;241m=\u001B[39m results[\u001B[38;5;241m1\u001B[39m]\n",
      "Cell \u001B[0;32mIn[8], line 7\u001B[0m, in \u001B[0;36mfive_random_elements\u001B[0;34m(dict, index)\u001B[0m\n\u001B[1;32m      5\u001B[0m \u001B[38;5;28;01mif\u001B[39;00m \u001B[38;5;28mlen\u001B[39m(\u001B[38;5;28mdict\u001B[39m) \u001B[38;5;241m<\u001B[39m \u001B[38;5;241m5\u001B[39m:\n\u001B[1;32m      6\u001B[0m     \u001B[38;5;28mprint\u001B[39m(\u001B[38;5;124m'\u001B[39m\u001B[38;5;124mdict\u001B[39m\u001B[38;5;124m'\u001B[39m, \u001B[38;5;28mdict\u001B[39m)\n\u001B[0;32m----> 7\u001B[0m     \u001B[38;5;28;01mraise\u001B[39;00m \u001B[38;5;167;01mValueError\u001B[39;00m(\u001B[38;5;124m\"\u001B[39m\u001B[38;5;124mIl dizionario deve contenere almeno 5 chiavi.\u001B[39m\u001B[38;5;124m\"\u001B[39m)\n\u001B[1;32m     10\u001B[0m \u001B[38;5;66;03m#crea tupla randomizzando i valori\u001B[39;00m\n\u001B[1;32m     11\u001B[0m randomUnit \u001B[38;5;241m=\u001B[39m random\u001B[38;5;241m.\u001B[39msample(\u001B[38;5;28mlist\u001B[39m(\u001B[38;5;28mdict\u001B[39m\u001B[38;5;241m.\u001B[39mkeys()), k\u001B[38;5;241m=\u001B[39m\u001B[38;5;241m5\u001B[39m)\n",
      "\u001B[0;31mValueError\u001B[0m: Il dizionario deve contenere almeno 5 chiavi."
     ]
    }
   ],
   "source": [
    "#dizionario che tiene traccia delle volte in cui una recensione viene inserita in una HIT\n",
    "counterPosition = {value: 5 for value in df_HIT_reviews['product_asin']}\n",
    "\n",
    "HITS = pd.DataFrame(columns=['HIT', 'Posizione 1' ,'Posizione 2','Posizione 3', 'Posizione 4', 'Posizione 5'])\n",
    "\n",
    "for index in range(15):\n",
    "    \n",
    "    results = five_random_elements(counterPosition, index)\n",
    "    unit = results[0]\n",
    "    counterPosition = results[1]\n",
    "    print(counterPosition)\n",
    "    HITS = pd.concat([HITS, unit], ignore_index=True)\n",
    "    print(HITS)\n",
    "        \n",
    "HITS.to_csv(r'HITS.csv', index=False)\n"
   ],
   "metadata": {
    "collapsed": false,
    "ExecuteTime": {
     "end_time": "2023-12-20T09:52:46.479437Z",
     "start_time": "2023-12-20T09:52:46.390847Z"
    }
   },
   "id": "d9040afd2fddbebb"
  },
  {
   "cell_type": "code",
   "execution_count": null,
   "outputs": [],
   "source": [
    "\n",
    "mio_dizionario = {'a': 1, 'b': 2, 'c': 3, 'd': 4, 'e': 5}\n",
    "\n",
    "try:\n",
    "    randomUnit = random.sample(list(mio_dizionario.keys()), 5)\n",
    "    print(randomUnit)\n",
    "except ValueError as e:\n",
    "    print(f\"Errore: {e}\")"
   ],
   "metadata": {
    "collapsed": false,
    "ExecuteTime": {
     "end_time": "2023-12-20T09:50:26.954108Z",
     "start_time": "2023-12-20T09:50:26.950417Z"
    }
   },
   "id": "c756989bc9620515"
  },
  {
   "cell_type": "code",
   "execution_count": 5,
   "outputs": [
    {
     "ename": "TypeError",
     "evalue": "unhashable type: 'list'",
     "output_type": "error",
     "traceback": [
      "\u001B[0;31m---------------------------------------------------------------------------\u001B[0m",
      "\u001B[0;31mTypeError\u001B[0m                                 Traceback (most recent call last)",
      "Cell \u001B[0;32mIn[5], line 13\u001B[0m\n\u001B[1;32m     11\u001B[0m \u001B[38;5;28;01mfor\u001B[39;00m i \u001B[38;5;129;01min\u001B[39;00m \u001B[38;5;28mrange\u001B[39m(\u001B[38;5;241m75\u001B[39m):\n\u001B[1;32m     12\u001B[0m     elemento_casuale \u001B[38;5;241m=\u001B[39m random\u001B[38;5;241m.\u001B[39mchoice(\u001B[38;5;28mlist\u001B[39m(contatore\u001B[38;5;241m.\u001B[39mkeys()))\n\u001B[0;32m---> 13\u001B[0m     \u001B[43mHITS\u001B[49m\u001B[43m[\u001B[49m\u001B[43mrandom\u001B[49m\u001B[38;5;241;43m.\u001B[39;49m\u001B[43msample\u001B[49m\u001B[43m(\u001B[49m\u001B[38;5;28;43mrange\u001B[39;49m\u001B[43m(\u001B[49m\u001B[38;5;241;43m0\u001B[39;49m\u001B[43m,\u001B[49m\u001B[38;5;241;43m15\u001B[39;49m\u001B[43m)\u001B[49m\u001B[43m,\u001B[49m\u001B[43m \u001B[49m\u001B[38;5;241;43m1\u001B[39;49m\u001B[43m)\u001B[49m\u001B[43m,\u001B[49m\u001B[43m \u001B[49m\u001B[43mrandom\u001B[49m\u001B[38;5;241;43m.\u001B[39;49m\u001B[43msample\u001B[49m\u001B[43m(\u001B[49m\u001B[38;5;28;43mrange\u001B[39;49m\u001B[43m(\u001B[49m\u001B[38;5;241;43m1\u001B[39;49m\u001B[43m,\u001B[49m\u001B[43m \u001B[49m\u001B[38;5;241;43m6\u001B[39;49m\u001B[43m)\u001B[49m\u001B[43m,\u001B[49m\u001B[43m \u001B[49m\u001B[38;5;241;43m1\u001B[39;49m\u001B[43m)\u001B[49m\u001B[43m]\u001B[49m \u001B[38;5;241m=\u001B[39m elemento_casuale\n\u001B[1;32m     14\u001B[0m     contatore[elemento_casuale] \u001B[38;5;241m+\u001B[39m\u001B[38;5;241m=\u001B[39m \u001B[38;5;241m1\u001B[39m\n\u001B[1;32m     15\u001B[0m     contatore\n",
      "File \u001B[0;32m/Library/Frameworks/Python.framework/Versions/3.10/lib/python3.10/site-packages/pandas/core/frame.py:3980\u001B[0m, in \u001B[0;36mDataFrame.__setitem__\u001B[0;34m(self, key, value)\u001B[0m\n\u001B[1;32m   3977\u001B[0m     \u001B[38;5;28mself\u001B[39m\u001B[38;5;241m.\u001B[39m_setitem_array([key], value)\n\u001B[1;32m   3978\u001B[0m \u001B[38;5;28;01melse\u001B[39;00m:\n\u001B[1;32m   3979\u001B[0m     \u001B[38;5;66;03m# set column\u001B[39;00m\n\u001B[0;32m-> 3980\u001B[0m     \u001B[38;5;28;43mself\u001B[39;49m\u001B[38;5;241;43m.\u001B[39;49m\u001B[43m_set_item\u001B[49m\u001B[43m(\u001B[49m\u001B[43mkey\u001B[49m\u001B[43m,\u001B[49m\u001B[43m \u001B[49m\u001B[43mvalue\u001B[49m\u001B[43m)\u001B[49m\n",
      "File \u001B[0;32m/Library/Frameworks/Python.framework/Versions/3.10/lib/python3.10/site-packages/pandas/core/frame.py:4177\u001B[0m, in \u001B[0;36mDataFrame._set_item\u001B[0;34m(self, key, value)\u001B[0m\n\u001B[1;32m   4165\u001B[0m \u001B[38;5;250m\u001B[39m\u001B[38;5;124;03m\"\"\"\u001B[39;00m\n\u001B[1;32m   4166\u001B[0m \u001B[38;5;124;03mAdd series to DataFrame in specified column.\u001B[39;00m\n\u001B[1;32m   4167\u001B[0m \n\u001B[0;32m   (...)\u001B[0m\n\u001B[1;32m   4172\u001B[0m \u001B[38;5;124;03mensure homogeneity.\u001B[39;00m\n\u001B[1;32m   4173\u001B[0m \u001B[38;5;124;03m\"\"\"\u001B[39;00m\n\u001B[1;32m   4174\u001B[0m value \u001B[38;5;241m=\u001B[39m \u001B[38;5;28mself\u001B[39m\u001B[38;5;241m.\u001B[39m_sanitize_column(value)\n\u001B[1;32m   4176\u001B[0m \u001B[38;5;28;01mif\u001B[39;00m (\n\u001B[0;32m-> 4177\u001B[0m     \u001B[43mkey\u001B[49m\u001B[43m \u001B[49m\u001B[38;5;129;43;01min\u001B[39;49;00m\u001B[43m \u001B[49m\u001B[38;5;28;43mself\u001B[39;49m\u001B[38;5;241;43m.\u001B[39;49m\u001B[43mcolumns\u001B[49m\n\u001B[1;32m   4178\u001B[0m     \u001B[38;5;129;01mand\u001B[39;00m value\u001B[38;5;241m.\u001B[39mndim \u001B[38;5;241m==\u001B[39m \u001B[38;5;241m1\u001B[39m\n\u001B[1;32m   4179\u001B[0m     \u001B[38;5;129;01mand\u001B[39;00m \u001B[38;5;129;01mnot\u001B[39;00m is_extension_array_dtype(value)\n\u001B[1;32m   4180\u001B[0m ):\n\u001B[1;32m   4181\u001B[0m     \u001B[38;5;66;03m# broadcast across multiple columns if necessary\u001B[39;00m\n\u001B[1;32m   4182\u001B[0m     \u001B[38;5;28;01mif\u001B[39;00m \u001B[38;5;129;01mnot\u001B[39;00m \u001B[38;5;28mself\u001B[39m\u001B[38;5;241m.\u001B[39mcolumns\u001B[38;5;241m.\u001B[39mis_unique \u001B[38;5;129;01mor\u001B[39;00m \u001B[38;5;28misinstance\u001B[39m(\u001B[38;5;28mself\u001B[39m\u001B[38;5;241m.\u001B[39mcolumns, MultiIndex):\n\u001B[1;32m   4183\u001B[0m         existing_piece \u001B[38;5;241m=\u001B[39m \u001B[38;5;28mself\u001B[39m[key]\n",
      "File \u001B[0;32m/Library/Frameworks/Python.framework/Versions/3.10/lib/python3.10/site-packages/pandas/core/indexes/base.py:5289\u001B[0m, in \u001B[0;36mIndex.__contains__\u001B[0;34m(self, key)\u001B[0m\n\u001B[1;32m   5254\u001B[0m \u001B[38;5;28;01mdef\u001B[39;00m \u001B[38;5;21m__contains__\u001B[39m(\u001B[38;5;28mself\u001B[39m, key: Any) \u001B[38;5;241m-\u001B[39m\u001B[38;5;241m>\u001B[39m \u001B[38;5;28mbool\u001B[39m:\n\u001B[1;32m   5255\u001B[0m \u001B[38;5;250m    \u001B[39m\u001B[38;5;124;03m\"\"\"\u001B[39;00m\n\u001B[1;32m   5256\u001B[0m \u001B[38;5;124;03m    Return a boolean indicating whether the provided key is in the index.\u001B[39;00m\n\u001B[1;32m   5257\u001B[0m \n\u001B[0;32m   (...)\u001B[0m\n\u001B[1;32m   5287\u001B[0m \u001B[38;5;124;03m    False\u001B[39;00m\n\u001B[1;32m   5288\u001B[0m \u001B[38;5;124;03m    \"\"\"\u001B[39;00m\n\u001B[0;32m-> 5289\u001B[0m     \u001B[38;5;28;43mhash\u001B[39;49m\u001B[43m(\u001B[49m\u001B[43mkey\u001B[49m\u001B[43m)\u001B[49m\n\u001B[1;32m   5290\u001B[0m     \u001B[38;5;28;01mtry\u001B[39;00m:\n\u001B[1;32m   5291\u001B[0m         \u001B[38;5;28;01mreturn\u001B[39;00m key \u001B[38;5;129;01min\u001B[39;00m \u001B[38;5;28mself\u001B[39m\u001B[38;5;241m.\u001B[39m_engine\n",
      "\u001B[0;31mTypeError\u001B[0m: unhashable type: 'list'"
     ]
    }
   ],
   "source": [
    "## prova ligu\n",
    "HITS = pd.DataFrame(columns=['HIT', 'Posizione 1' ,'Posizione 2','Posizione 3', 'Posizione 4', 'Posizione 5'])\n",
    "\n",
    "contatore = {}\n",
    "\n",
    "for index in df_HIT_reviews.product_asin:\n",
    "    contatore[index] = 0\n",
    "\n",
    "\n",
    "#le chiavi del contatore sono unashable\n",
    "for i in range(75):\n",
    "    elemento_casuale = random.choice(list(contatore.keys()))\n",
    "    HITS[random.sample(range(0,15), 1), random.sample(range(1, 6), 1)] = elemento_casuale\n",
    "    contatore[elemento_casuale] += 1\n",
    "    contatore\n",
    "\n"
   ],
   "metadata": {
    "collapsed": false,
    "ExecuteTime": {
     "end_time": "2023-12-20T09:50:28.632153Z",
     "start_time": "2023-12-20T09:50:27.449664Z"
    }
   },
   "id": "bb10e86cb7eea5e8"
  },
  {
   "cell_type": "code",
   "execution_count": null,
   "outputs": [],
   "source": [],
   "metadata": {
    "collapsed": false,
    "pycharm": {
     "is_executing": true
    }
   },
   "id": "ec32f6df16bad720"
  },
  {
   "cell_type": "code",
   "execution_count": 23,
   "outputs": [],
   "source": [],
   "metadata": {
    "collapsed": false
   },
   "id": "9056e53d5bad6ae4"
  }
 ],
 "metadata": {
  "kernelspec": {
   "display_name": "Python 3",
   "language": "python",
   "name": "python3"
  },
  "language_info": {
   "codemirror_mode": {
    "name": "ipython",
    "version": 2
   },
   "file_extension": ".py",
   "mimetype": "text/x-python",
   "name": "python",
   "nbconvert_exporter": "python",
   "pygments_lexer": "ipython2",
   "version": "2.7.6"
  }
 },
 "nbformat": 4,
 "nbformat_minor": 5
}
